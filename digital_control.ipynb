{
 "cells": [
  {
   "cell_type": "code",
   "execution_count": 20,
   "metadata": {
    "ExecuteTime": {
     "end_time": "2018-11-09T14:37:14.069215Z",
     "start_time": "2018-11-09T14:37:14.060850Z"
    }
   },
   "outputs": [],
   "source": [
    "%matplotlib inline\n",
    "\n",
    "import numpy as np\n",
    "import control as ctl\n",
    "from control.matlab import * \n",
    "import matplotlib.pyplot as plt\n",
    "import ipywidgets as widgets\n",
    "from ipywidgets import interactive\n",
    "from scipy import signal, linalg\n",
    "from labellines import labelLine # pip install matplotlib-label-lines\n",
    "from sympy import Symbol, Matrix, simplify, mpmath, symbols\n",
    "from sympy import integrate as Integrate, collect\n",
    "from sympy import init_printing\n",
    "\n",
    "# Note: in case of kernell crash when running control, update numpy"
   ]
  },
  {
   "cell_type": "code",
   "execution_count": 2,
   "metadata": {
    "ExecuteTime": {
     "end_time": "2018-11-09T14:36:31.519635Z",
     "start_time": "2018-11-09T14:36:31.514481Z"
    }
   },
   "outputs": [],
   "source": [
    "# set global plotting style\n",
    "font = {'family' : 'normal',\n",
    "        'weight' : 'bold',\n",
    "        'size'   : 15}\n",
    "\n",
    "# plt.rc('font', **font)\n",
    "plt.rcdefaults()"
   ]
  },
  {
   "cell_type": "markdown",
   "metadata": {},
   "source": [
    "### Figure 1.6\n",
    "Simulation of disk arm servo with analog (dashed) and computer control (solid). The sampling period is $h=0.2/\\omega_0$."
   ]
  },
  {
   "cell_type": "code",
   "execution_count": 3,
   "metadata": {
    "ExecuteTime": {
     "end_time": "2018-11-09T14:36:31.563619Z",
     "start_time": "2018-11-09T14:36:31.521058Z"
    }
   },
   "outputs": [],
   "source": [
    "freq = 1.\n",
    "J = 8. # Moment of inertia of disk-drive\n",
    "k = 3. # constant\n",
    "\n",
    "a = 2.*freq\n",
    "b = freq/2.\n",
    "K = 2.*J*freq**2./k\n",
    "\n",
    "G = ctl.tf([k],[J,0,0])\n",
    "FB = K*ctl.tf([1, b], [1, a])\n",
    "loop = ctl.feedback(G,FB,sign=-1)\n",
    "\n",
    "gain = b*K/a\n",
    "uc = 1."
   ]
  },
  {
   "cell_type": "code",
   "execution_count": 4,
   "metadata": {
    "ExecuteTime": {
     "end_time": "2018-11-09T14:36:31.627999Z",
     "start_time": "2018-11-09T14:36:31.565231Z"
    }
   },
   "outputs": [],
   "source": [
    "dt = 0.01\n",
    "t_in = np.arange(0,10,dt)\n",
    "u = np.ones(len(t_in))*gain\n",
    "\n",
    "t_out, y_out, _ = ctl.forced_response(loop, t_in, u)\n",
    "_, e_out, _ = ctl.forced_response(FB, t_in, y_out)\n",
    "error = u - e_out"
   ]
  },
  {
   "cell_type": "code",
   "execution_count": 5,
   "metadata": {
    "ExecuteTime": {
     "end_time": "2018-11-09T14:36:32.038593Z",
     "start_time": "2018-11-09T14:36:31.629634Z"
    }
   },
   "outputs": [
    {
     "data": {
      "application/vnd.jupyter.widget-view+json": {
       "model_id": "0f97dfceffd546a89880f222ab78ec44"
      }
     },
     "metadata": {},
     "output_type": "display_data"
    }
   ],
   "source": [
    "\n",
    "    \n",
    "def plot_discrete(h):\n",
    "    fig1, axs = plt.subplots(num=1,nrows=2, ncols=1, figsize=(9,7))\n",
    "    axs = np.asarray(axs).reshape(-1)\n",
    "    loop_d = loop.sample(h)\n",
    "    FB_d = FB.sample(h)\n",
    "\n",
    "    td_in = np.arange(0,10,h)\n",
    "    ud = np.ones(len(td_in))*gain\n",
    "\n",
    "    td_out, yd_out, _ = ctl.forced_response(loop_d, td_in, ud)\n",
    "    yd_out = yd_out[0] # discrete systems are stored as an array \n",
    "    _, ed_out, _ = ctl.forced_response(FB_d, td_in, yd_out)\n",
    "    errord = ud - ed_out[0]\n",
    "    fig1.show()\n",
    "    \n",
    "    # plot lti\n",
    "    axs[0].step(t_out,y_out, color='blue')\n",
    "    axs[1].step(t_out,error, color='blue')\n",
    "    # plot discrete\n",
    "    axs[0].step(td_out,yd_out, color='red')\n",
    "    axs[1].step(td_out,errord, color='red')\n",
    "    plt.show()\n",
    "    \n",
    "interactive_plot = interactive(plot_discrete, h=(0.1, 1.0))\n",
    "interactive_plot"
   ]
  },
  {
   "cell_type": "markdown",
   "metadata": {},
   "source": [
    "### Figure 1.8\n",
    "\n",
    "# QUESTION ---------------------------------\n",
    "In deze afbeelding zijn alle resultaten stabiel. \n",
    "Als ik de opgave goed begrijp is het doel om te laten zien dat als je een systeem gewoon sampelt hij instabiel word vanaf een bepaalde sampling constant. \n",
    "Zoals ik het in de afbeelding hieronder heb gedaan heb ik het systeem geconverteerd naar een discreet systeem door gebruik te maken van de sample functie, maar deze past ZOH toe. Dit is volgensmij niet de bedoeling. \n",
    "Je kunt de regels hieronder uncommenten om te zien hoe het systeem reageert als het gewoon gesampeld word zonder eerst zoh toe te passen. Maar dan zijn alle systemen zowiso onstabiel...\n",
    "\n",
    "Ik heb de andere afbeeldingen van Chap 1. nog maar overgeslagen aangezien deze verder bouwen op dit systeem."
   ]
  },
  {
   "cell_type": "code",
   "execution_count": 6,
   "metadata": {
    "ExecuteTime": {
     "end_time": "2018-11-09T14:36:32.848261Z",
     "start_time": "2018-11-09T14:36:32.039768Z"
    }
   },
   "outputs": [
    {
     "data": {
      "image/png": "[encoded data removed]",
      "text/plain": [
       "<Figure size 1000x700 with 4 Axes>"
      ]
     },
     "metadata": {},
     "output_type": "display_data"
    }
   ],
   "source": [
    "fig1, axs = plt.subplots(nrows=2, ncols=2, figsize=(10,7))\n",
    "\n",
    "h_range = [0.5, 1.08]\n",
    "for i in range(2):\n",
    "    h = h_range[i]/freq\n",
    "    \n",
    "    # ------- Switch between sampling (ZOH) and sampling the system\n",
    "    loop_d = loop.sample(h)\n",
    "#     loop_d = ctl.tf(loop.num[0][0],loop.den[0][0], h)\n",
    "    FB_d = FB.sample(h)\n",
    "#     FB_d = ctl.tf(FB.num[0][0],FB.den[0][0], h)\n",
    "\n",
    "    td_in = np.arange(0,15,h)\n",
    "    ud = np.ones(len(td_in))*gain\n",
    "\n",
    "    td_out, yd_out, _ = ctl.forced_response(loop_d, td_in, ud)\n",
    "    yd_out = yd_out[0] # discrete systems are stored as an array \n",
    "    _, ed_out, _ = ctl.forced_response(FB_d, td_in, yd_out)\n",
    "    errord = ud - ed_out[0]\n",
    "    \n",
    "    # plot lti\n",
    "    axs[0][i].step(t_out,y_out, color='blue')\n",
    "    axs[0][i].set_ylabel('Output')\n",
    "    axs[0][i].set_ylim((-0.1, 1.3))\n",
    "    axs[1][i].step(t_out,error, color='blue')\n",
    "    axs[1][i].set_ylabel('Input')\n",
    "    axs[1][i].set_ylim((-1.8, 1.4))\n",
    "    # plot discrete\n",
    "    axs[0][i].step(td_out,yd_out, color='red')\n",
    "    axs[0][i].set_ylabel('Output')   \n",
    "    axs[0][i].set_ylim((-0.1, 1.3))\n",
    "    axs[1][i].step(td_out,errord, color='red')\n",
    "    axs[1][i].set_ylabel('Input')\n",
    "    axs[1][i].set_xlabel('Time($\\omega_0t$)')\n",
    "    axs[1][i].set_ylim((-1.8, 1.4))\n",
    "    \n",
    "plt.show();"
   ]
  },
  {
   "cell_type": "markdown",
   "metadata": {},
   "source": [
    "## Deadbeat-controller\n",
    "### Figure 1.9"
   ]
  },
  {
   "cell_type": "code",
   "execution_count": null,
   "metadata": {},
   "outputs": [],
   "source": []
  },
  {
   "cell_type": "markdown",
   "metadata": {},
   "source": [
    "# Chapter 2"
   ]
  },
  {
   "cell_type": "markdown",
   "metadata": {},
   "source": [
    "Consider the continuous-time system\n",
    "\n",
    "$$\n",
    "\\frac{\\omega_0^2}{s^2+2\\zeta\\omega_0s +\\omega_0^2}\n",
    "$$\n",
    "\n",
    "The poles of the corresponding discrete-time system are given by the characteristic equation \n",
    "\n",
    "$$\n",
    "z^2 + a_1z +a_2 = 0\n",
    "$$\n",
    "where \n",
    "$$\n",
    "a_1 = -2e^{-\\zeta\\omega_0h}cos(\\sqrt{1-\\zeta^2}\\omega_0h)\\\\\n",
    "a_2 = e^{-2\\zeta\\omega_0h}\n",
    "$$\n",
    "\n",
    "\n",
    "#### Figure 2.7"
   ]
  },
  {
   "cell_type": "code",
   "execution_count": 7,
   "metadata": {
    "ExecuteTime": {
     "end_time": "2018-11-09T14:36:33.244716Z",
     "start_time": "2018-11-09T14:36:32.849490Z"
    }
   },
   "outputs": [
    {
     "data": {
      "image/png": "[encoded data removed]",
      "text/plain": [
       "<Figure size 900x700 with 4 Axes>"
      ]
     },
     "metadata": {},
     "output_type": "display_data"
    }
   ],
   "source": [
    "freq = 1.83\n",
    "zeta = 0.5\n",
    "h_range = [0.125, 0.25, 0.5, 1.0]\n",
    "\n",
    "G = ctl.tf([freq**2], [1, 2*zeta*freq, freq**2])\n",
    "\n",
    "\n",
    "fig1, axs = plt.subplots(nrows=2, ncols=2, figsize=(9,7))\n",
    "axs = np.asarray(axs).reshape(-1)\n",
    "\n",
    "for i in range(4):\n",
    "    dt = h_range[i]\n",
    "    G_d = G.sample(dt)\n",
    "    t_in = np.arange(0,9,dt)\n",
    "    _, _y_out = ctl.step_response(G_d, t_in)\n",
    "    \n",
    "    y_step = _y_out[0] # output is stored in tuple\n",
    "    axs[i].scatter(t_in,y_step,3)\n",
    "#     axs[i].grid()\n",
    "#     axs[i].set_xlabel('t')\n",
    "    axs[i].set_ylabel('y')\n",
    "    axs[i].set_title('h=%.3f'%dt)\n",
    "plt.show()"
   ]
  },
  {
   "cell_type": "markdown",
   "metadata": {},
   "source": [
    "## Sampling a Continuous-Time State-Space System\n",
    "\n",
    "Assume that the continuous-time system is given in the following state-space form:\n",
    "\n",
    "$$\n",
    "\\frac{dx}{dt} = Ax(t) + Bu(t) \\\\\n",
    "y(t) = Cx(t) + Du(t)\n",
    "$$\n",
    "\n",
    "A common situation in computer control is that the D-A converter is so constructed taht it holds the analog signal constant until a new conversion is commanded. This is often called a *zero-order-hold circuit*.\n",
    "\n",
    "This can be expressed using the following mathematical equation:\n",
    "\n",
    "$$\n",
    "x(t_{k+1}) = \\Phi(t_{k+1}, t_k)x(t_k) + \\Gamma(t_{k+1},t_k)u(t_k) \\\\\n",
    "y(t_k) = Cx(t_k) + Du(t_k)\n",
    "$$\n",
    "\n",
    "where\n",
    "\n",
    "$$\n",
    "\\Phi(t_{k+1}, t_k) = e^{A(t_{k+1}-t_k)}\\\\\n",
    "\\Gamma(t_{k+1},t_k) = \\int^{t_{k+1}t_k}_0e^{As}ds\\ B\n",
    "$$\n",
    "\n",
    "The relationship between the sampled signals can be expressed by the linear difference equation shown above. notice that this equation does not involve any approximations. It gives the exact values of the state variables and the output at the sampling instants because the control signal is constant between the sampling instants. The model is therefore called a zero-roder-hold sampling of the system. \\\\\n",
    "In most cases $D=0$. One reason for this is because in computer-controlled systems, the output y is first measured and the control signal $u(t_k)$ is then generated as a function of $y(t_k)$. In practice it often happens that there is a significant delay between the A-D and D-A conversions. However it is easy to make the necessary modifications. The state vector at times between sampling points is given by $x(t_{k+1})$. This makes it possible to investigate the intersample behavior of the system. Notice that the responses between the sampling points are parts of step respones, with initial conditions, for the system. This implies that the system is running in open loop between the sampling points.\\\\\n",
    "For periodic sampling with period h, we have $t_k=k\\cdoth and the model given above simplifies to the time-invariant system:\n",
    "\n",
    "$$\n",
    "x(kh+h) = \\Phi (kh) + \\Gamma (kh) \\\\\n",
    "y(kh) = Cx(kh) + Du(kh)\n",
    "$$\n",
    "\n",
    "where \n",
    "\n",
    "$$\n",
    "\\Phi = e^{Ah} \\\\\n",
    "\\Gamma = \\int_0^h e^{As}ds\\ B\n",
    "$$\n",
    "\n",
    "From this it follows that\n",
    "\n",
    "$$\n",
    "\\frac{d\\Phi(t)}{dt}= A\\Phi(t) = \\Phi(t)A \\\\\n",
    "\\frac{d\\Gamma(t)}{dt} = \\Phi(t)B\n",
    "$$\n",
    "\n",
    "The matrices $\\Phi$ and $\\Gamma$ therefore satisfy the equation\n",
    "\n",
    "$$\n",
    "\\frac{d}{dt} \n",
    "\\begin{bmatrix}\n",
    "\\Phi(t) & \\Gamma(t) \\\\\n",
    "0 & I\n",
    "\\end{bmatrix}\n",
    "=\n",
    "\\begin{bmatrix}\n",
    "\\Phi(t) & \\Gamma(t) \\\\\n",
    "0 & I\n",
    "\\end{bmatrix}\n",
    "\\begin{bmatrix}\n",
    "A & B \\\\\n",
    "0 & 0\n",
    "\\end{bmatrix}\n",
    "$$\n",
    "Where I is a unit matrix of the same dimension as the number of inputs. The matrices $\\Phi(h)$ and $\\Gamma(h)$ for the sampling period h therefore can be obtained from the block matrix:\n",
    "\n",
    "$$\n",
    "\\begin{bmatrix}\n",
    "\\Phi(h) & \\Gamma(h) \\\\\n",
    "0 & I\n",
    "\\end{bmatrix}\n",
    "=\n",
    "exp(\\begin{bmatrix}\n",
    "A & B \\\\\n",
    "0 & 0\n",
    "\\end{bmatrix}\n",
    "h)\n",
    "$$\n",
    "\n",
    "## Python implementation"
   ]
  },
  {
   "cell_type": "code",
   "execution_count": 8,
   "metadata": {
    "ExecuteTime": {
     "end_time": "2018-11-09T14:36:33.266898Z",
     "start_time": "2018-11-09T14:36:33.246543Z"
    }
   },
   "outputs": [],
   "source": [
    "\"\"\"\n",
    "This function calculates the Phi and Gamma values used for zero order hold and\n",
    "the Pulse-Transfer operator.\n",
    "\n",
    "@input A, B: state matrices\n",
    "@input h: sampling period\n",
    "@output Phi, Gamma\n",
    "\"\"\"\n",
    "def get_phi_gamma(A, B, h):\n",
    "    # Using the formula shown above\n",
    "    # create matrix [A B ;\n",
    "    #                0 0]\n",
    "    m_top = np.hstack((A, B)) # create top of matrix\n",
    "    m_bottom = np.zeros(m_top.shape) # create bottom part\n",
    "    m = np.vstack((m_top, m_bottom)) # combine top and bottom \n",
    "    expm = linalg.expm(m*h) # Equation 2.6 from the book\n",
    "    \n",
    "    # Dispose of the lower rows\n",
    "    expm = expm[:A.shape[0], :]\n",
    "\n",
    "    Phi = expm[:, 0:A.shape[1]]\n",
    "    Gamma = expm[:, A.shape[1]:]\n",
    "    return (Phi, Gamma)\n",
    "\n",
    "def get_phi_gamma_sym(A, B):\n",
    "    h = Symbol('h')\n",
    "    s = Symbol('s')\n",
    "    I = Matrix.eye(A.shape[0])\n",
    "    A = Matrix(A)\n",
    "    B = Matrix(B)\n",
    "    \n",
    "    # Equation 2.5 from the book\n",
    "    Phi = Matrix.exp(A*h)\n",
    "    Gamma = Integrate(Matrix.exp(A*s), (s, 0, h))*B\n",
    "    return (Phi, Gamma)\n",
    "\n",
    "\n",
    "\"\"\"\n",
    "This function converts a continuous-time state space system into\n",
    "a discrete system with sampling period h using zero order hold.\n",
    "\n",
    "@input ss_sys: expects a tuple of (A, B, C, D)\n",
    "@input h: sampling period\n",
    "@output ss_d: a tuple of (A, B, C, D)\n",
    "\"\"\"\n",
    "def zoh(ss_sys, h):\n",
    "    A, B, C, D = ss_sys\n",
    "    Ad, Bd = get_phi_gamma(A, B, h)\n",
    "    Cd = C\n",
    "    Dd = D\n",
    "    \n",
    "    return (Ad, Bd, Cd, Dd)\n"
   ]
  },
  {
   "cell_type": "markdown",
   "metadata": {},
   "source": [
    "### Example 2.2 Double integrator\n",
    "\n",
    "The double integrator is described by\n",
    "\n",
    "$$\n",
    "\\frac{dx}{dt} = \n",
    "\\begin{bmatrix}\n",
    "0 & 1 \\\\\n",
    "0 & 0\n",
    "\\end{bmatrix}\n",
    "x +\n",
    "\\begin{bmatrix}\n",
    "0 \\\\\n",
    "1\n",
    "\\end{bmatrix}\n",
    "u \\\\\n",
    "y = \n",
    "\\begin{bmatrix}\n",
    "1 & 0\n",
    "\\end{bmatrix}\n",
    "x\n",
    "$$\n",
    "\n",
    "Hence\n",
    "\n",
    "$$\n",
    "\\Phi = e^{Ah} = I +Ah+\\frac{A^2h^2}{2} + \\ldots =\n",
    "\\begin{bmatrix}\n",
    "1 & 0 \\\\\n",
    "0 & 1\n",
    "\\end{bmatrix}\n",
    "+\n",
    "\\begin{bmatrix}\n",
    "0 & h \\\\\n",
    "0 & 0\n",
    "\\end{bmatrix}\n",
    "=\n",
    "\\begin{bmatrix}\n",
    "1 & h \\\\\n",
    "0 & 1\n",
    "\\end{bmatrix} \\\\\n",
    "\\Gamma = \\int_0^h \n",
    "\\begin{bmatrix}\n",
    "s \\\\\n",
    "1\n",
    "\\end{bmatrix}\n",
    "ds\n",
    "=\n",
    "\\begin{bmatrix}\n",
    "\\frac{h^2}{2} \\\\\n",
    "h\n",
    "\\end{bmatrix}\n",
    "$$\n",
    "\n",
    "The discrete-time model of the double integrator is\n",
    "\n",
    "$$\n",
    "x(kh+h) = \n",
    "\\begin{bmatrix}\n",
    "1 & h \\\\\n",
    "0 & 1\n",
    "\\end{bmatrix}\n",
    "x(kh) +\n",
    "\\begin{bmatrix}\n",
    "\\frac{h^2}{2} \\\\\n",
    "h\n",
    "\\end{bmatrix}\n",
    "u(kh) \\\\\n",
    "y(kh) = \n",
    "\\begin{bmatrix}\n",
    "1 & 0\n",
    "\\end{bmatrix}\n",
    "x(kh)\n",
    "$$\n",
    "\n",
    "This can easily be done by the python function above:"
   ]
  },
  {
   "cell_type": "code",
   "execution_count": 9,
   "metadata": {
    "ExecuteTime": {
     "end_time": "2018-11-09T14:36:33.310439Z",
     "start_time": "2018-11-09T14:36:33.268673Z"
    }
   },
   "outputs": [
    {
     "name": "stdout",
     "output_type": "stream",
     "text": [
      "Ad=\n",
      "[[1.  0.1]\n",
      " [0.  1. ]]\n",
      "Bd=\n",
      "[[0.00016667 0.        ]\n",
      " [0.00333333 0.        ]]\n",
      "Cd=\n",
      "[[1 0]\n",
      " [0 0]]\n"
     ]
    }
   ],
   "source": [
    "# Example 2.2 (with parametrized mass)\n",
    "\n",
    "h = 0.1\n",
    "m = 30\n",
    "\n",
    "A = np.array([[0, 1], [0, 0]])\n",
    "B = np.array([[0, 0], [1./m, 0]])\n",
    "C = np.array([[1, 0], [0, 0]])\n",
    "D = np.array([[0, 0], [0, 0]])\n",
    "\n",
    "Ad, Bd, Cd, Dd = zoh((A, B, C, D), h)\n",
    "print(\"Ad=\"); print(Ad)\n",
    "print(\"Bd=\"); print(Bd)\n",
    "print(\"Cd=\"); print(Cd)"
   ]
  },
  {
   "cell_type": "markdown",
   "metadata": {},
   "source": [
    "### The Pulse-Transfer Operator\n",
    "\n",
    "\n",
    "$$\n",
    "H(q) = C(qI-\\Phi)^{-1}\\Gamma + D = \\frac{B(q)}{A(q)}\n",
    "$$"
   ]
  },
  {
   "cell_type": "code",
   "execution_count": 10,
   "metadata": {
    "ExecuteTime": {
     "end_time": "2018-11-09T14:36:33.346815Z",
     "start_time": "2018-11-09T14:36:33.312809Z"
    }
   },
   "outputs": [],
   "source": [
    "\n",
    "\n",
    "\n",
    "def pulse_transfer(ss_sys, h):\n",
    "    A, B, C, D = ss_sys\n",
    "    q = Symbol('q')\n",
    "    Phi, Gamma = get_phi_gamma(A, B, h)\n",
    "    m_inv = Matrix(q*np.eye(Phi.shape[0])-Phi).inv()\n",
    "    H = C*m_inv*Gamma\n",
    "    return H\n"
   ]
  },
  {
   "cell_type": "markdown",
   "metadata": {},
   "source": [
    "### Example 2.12"
   ]
  },
  {
   "cell_type": "code",
   "execution_count": 11,
   "metadata": {
    "ExecuteTime": {
     "end_time": "2018-11-09T14:36:33.598019Z",
     "start_time": "2018-11-09T14:36:33.348358Z"
    }
   },
   "outputs": [
    {
     "name": "stdout",
     "output_type": "stream",
     "text": [
      "0.5*(q + 1)/(1.0*q**2 - 2.0*q + 1.0)\n",
      "0\n"
     ]
    }
   ],
   "source": [
    "A = np.array([[0, 1], [0, 0]])\n",
    "B = np.array([[0, 0], [1., 0]])\n",
    "C = np.array([[1, 0], [0, 0]])\n",
    "\n",
    "H = pulse_transfer((A,B,C,D), 1.)\n",
    "\n",
    "q = Symbol('q')\n",
    "ans = 0.5*(q**-1+q**-2)/(1-2*q**-1+q**-2) \n",
    "print(simplify(H[0]))\n",
    "# Zero check\n",
    "print(simplify(H[0]-ans))"
   ]
  },
  {
   "cell_type": "markdown",
   "metadata": {},
   "source": [
    "### Complex poles\n",
    "\n",
    "Consider the continuous-time system\n",
    "$$\n",
    "G = \\frac{\\omega^2}{s^2 + 2\\zeta\\omega_0s+\\omega_0^2}\n",
    "$$\n",
    "The poles of the corresponding dicrete-time system are given by the characteristic equation:\n",
    "$$\n",
    "z^2+a_1z+a_2 = 0\n",
    "$$\n",
    "where\n",
    "$$\n",
    "a_1 = -2e^{-\\zeta\\omega_0h}cos(\\sqrt{1-\\zeta^2}\\omega_0h) \\\\\n",
    "a_2 = e^{-2\\zeta\\omega_0h}\n",
    "$$"
   ]
  },
  {
   "cell_type": "code",
   "execution_count": 12,
   "metadata": {
    "ExecuteTime": {
     "end_time": "2018-11-09T14:36:33.611704Z",
     "start_time": "2018-11-09T14:36:33.599926Z"
    }
   },
   "outputs": [
    {
     "name": "stdout",
     "output_type": "stream",
     "text": [
      "Continuous-time system G: \n",
      "\n",
      "        3.349\n",
      "--------------------\n",
      "s^2 + 1.83 s + 3.349\n",
      "\n",
      "The poles of the corresponding discrete-time system: \n",
      "z^2 + -1.802z + 0.833 = 0 \n",
      "\n",
      "We can use the built in sample function to confirm our solution:\n",
      "\n",
      "  0.01572 z + 0.01479\n",
      "----------------------\n",
      "z^2 - 1.802 z + 0.8328\n",
      "\n",
      "dt = 0.1\n",
      "\n"
     ]
    }
   ],
   "source": [
    "freq = 1.83\n",
    "zeta = 0.5\n",
    "h = 0.1\n",
    "\n",
    "G = ctl.tf([freq**2], [1, 2*zeta*freq, freq**2])\n",
    "print(\"Continuous-time system G: \")\n",
    "print(G)\n",
    "print(\"The poles of the corresponding discrete-time system: \")\n",
    "a_1 = -2*np.exp(-zeta*freq*h)*np.cos(np.sqrt(1-zeta**2)*freq*h)\n",
    "a_2 = np.exp(-2*zeta*freq*h)\n",
    "print(\"z^2 + %.3fz + %.3f = 0 \\n\" % (a_1, a_2))\n",
    "\n",
    "print(\"We can use the built in sample function to confirm our solution:\")\n",
    "print(G.sample(h))"
   ]
  },
  {
   "cell_type": "code",
   "execution_count": null,
   "metadata": {
    "ExecuteTime": {
     "end_time": "2018-10-16T12:31:40.753367Z",
     "start_time": "2018-10-16T12:31:40.728606Z"
    }
   },
   "outputs": [],
   "source": []
  },
  {
   "cell_type": "code",
   "execution_count": 13,
   "metadata": {
    "ExecuteTime": {
     "end_time": "2018-11-09T14:36:35.074517Z",
     "start_time": "2018-11-09T14:36:33.613573Z"
    }
   },
   "outputs": [],
   "source": [
    "h = 0.1\n",
    "freq = 1.83\n",
    "zeta = 0.5\n",
    "\n",
    "G = ctl.tf([freq**2], [1, 2*zeta*freq, freq**2])\n",
    "G_d = G.sample(3)\n",
    "\n",
    "# calculate for constant damping\n",
    "sampling_rates = np.arange(0.01,1.8,0.05)\n",
    "dampings = np.arange(0, 1.1, 0.1)\n",
    "poles_cd = np.zeros((len(dampings),len(sampling_rates)),dtype=np.complex_)\n",
    "\n",
    "for i,zeta in enumerate(dampings): # loop over damping ratios\n",
    "    G = ctl.tf([freq**2], [1, 2*zeta*freq, freq**2])\n",
    "    for j,h in enumerate(sampling_rates): # loop over sampling rates\n",
    "        G_d = G.sample(h)\n",
    "        _poles, _ = ctl.pzmap(G_d, Plot=False)\n",
    "        poles_cd[i,j] = _poles[0] # only store one pole\n",
    "        \n",
    "# calculate for constant sampling rate\n",
    "sampling_rates = np.arange(0.2,1.8,.2)\n",
    "_dampings = np.arange(0, 1.1, 0.01)\n",
    "poles_cs = np.zeros((len(sampling_rates),len(_dampings)),dtype=np.complex_)\n",
    "\n",
    "for i,zeta in enumerate(_dampings): # loop over damping ratios\n",
    "    G = ctl.tf([freq**2], [1, 2*zeta*freq, freq**2])\n",
    "    for j,h in enumerate(sampling_rates): # loop over sampling rates\n",
    "        G_d = G.sample(h)\n",
    "        _poles, _ = ctl.pzmap(G_d, Plot=False)\n",
    "        poles_cs[j,i] = _poles[0] # only store one pole"
   ]
  },
  {
   "cell_type": "markdown",
   "metadata": {},
   "source": [
    "### Figure 2.8"
   ]
  },
  {
   "cell_type": "code",
   "execution_count": 14,
   "metadata": {
    "ExecuteTime": {
     "end_time": "2018-11-09T14:36:35.386080Z",
     "start_time": "2018-11-09T14:36:35.078004Z"
    }
   },
   "outputs": [
    {
     "data": {
      "image/png": "[encoded data removed]",
      "text/plain": [
       "<Figure size 640x480 with 1 Axes>"
      ]
     },
     "metadata": {},
     "output_type": "display_data"
    }
   ],
   "source": [
    "# note: we flip the arrays to allow for linelabelling since it assumes incremental data\n",
    "lines = plt.plot(np.flip(poles_cd.T.real, 0), np.flip(poles_cd.T.imag,0), 1, color='blue')\n",
    "# lines = plt.plot(poles_cd.T.real, poles_cd.T.imag, color='blue')\n",
    "plt.plot(poles_cs.T.real, poles_cs.T.imag, color='red', linestyle='--')\n",
    "plt.ylim(top=1.2)\n",
    "plt.xlabel('Real axis')\n",
    "plt.ylabel('Imaginary axis')\n",
    "plt.title('Root locus plot')\n",
    "\n",
    "# set labels\n",
    "for i, line in enumerate(lines[::2]):\n",
    "    labelLine(line, 0.4, label=\"$\\zeta$=%.1f\" % dampings[i*2], color='black')\n",
    "    \n",
    "legend_elements = [plt.Line2D([0], [0], color='b', label='Constant $\\zeta$'),\n",
    "                   plt.Line2D([0], [0], color='r', linestyle='--', label='Constant $\\omega_0h$')]\n",
    "plt.legend(handles=legend_elements, loc='upper right')\n",
    "\n",
    "plt.show()"
   ]
  },
  {
   "cell_type": "markdown",
   "metadata": {
    "ExecuteTime": {
     "end_time": "2018-10-16T12:44:45.433820Z",
     "start_time": "2018-10-16T12:44:45.206864Z"
    }
   },
   "source": [
    "# Chapter 4\n",
    "\n",
    "### Pole-placement using state feedback\n",
    "If the system is reachable, there exists a linear feedback that gives a closed-loop system with the charactersitic $P(z)$. The feedback is given by:\n",
    "\n",
    "$$\n",
    "u(k) = -Lx(k)\n",
    "$$\n",
    "\n",
    "with\n",
    "\n",
    "$$\n",
    "L = (p_1-a_1,\\ p_2-a_2,\\ \\cdots, p_n-a_n) \\tilde{W}_c W_c^{-1} \\\\\n",
    "= (0,\\ \\cdots\\,\\ 0,\\ 1)W_C^{-1}P(\\Phi)\n",
    "$$\n",
    "\n",
    "Where $W_c$ and $\\tilde{W}_c$ are teh reachability matrices of the systems $x(k+1) = \\Phi x(k) + \\Gamma u(k)$ and $z(k+1) = \\tilde{\\Phi}z(k) + \\tilde{\\Gamma}u(k)$\n",
    "\n",
    "### Example 4.2\n",
    "\n",
    "Consider the double-integrator plant:\n",
    "\n",
    "$$\n",
    "x(k+1) = \n",
    "\\begin{bmatrix}\n",
    "1 & h \\\\\n",
    "0 & 1\n",
    "\\end{bmatrix}\n",
    "x(k) + \n",
    "\\begin{bmatrix}\n",
    "h^2/2 \\\\\n",
    "h\n",
    "\\end{bmatrix}\n",
    "u(k)\n",
    "$$"
   ]
  },
  {
   "cell_type": "code",
   "execution_count": 15,
   "metadata": {
    "ExecuteTime": {
     "end_time": "2018-11-09T14:36:35.463944Z",
     "start_time": "2018-11-09T14:36:35.387553Z"
    }
   },
   "outputs": [
    {
     "data": {
      "text/latex": [
       "$$\\left[\\begin{matrix}- \\frac{1}{h^{2}} & \\frac{3}{2 h}\\\\\\frac{1}{h^{2}} & - \\frac{1}{2 h}\\end{matrix}\\right]$$"
      ],
      "text/plain": [
       "⎡-1    3 ⎤\n",
       "⎢───  ───⎥\n",
       "⎢  2  2⋅h⎥\n",
       "⎢ h      ⎥\n",
       "⎢        ⎥\n",
       "⎢1    -1 ⎥\n",
       "⎢──   ───⎥\n",
       "⎢ 2   2⋅h⎥\n",
       "⎣h       ⎦"
      ]
     },
     "execution_count": 15,
     "metadata": {},
     "output_type": "execute_result"
    }
   ],
   "source": [
    "init_printing()\n",
    "h = Symbol('h')\n",
    "\n",
    "phi = np.array([[1, h], [0, 1]])\n",
    "gamma = np.array([[h**2/2], [h]])\n",
    "\n",
    "w1 = gamma\n",
    "w2 = phi.dot(gamma)\n",
    "W = np.array([w1,w2]).T[0]\n",
    "W = Matrix(W)\n",
    "W_inv = W.inv()\n",
    "W_inv"
   ]
  },
  {
   "cell_type": "markdown",
   "metadata": {},
   "source": [
    "The characteristic polynomial of the matrix $\\Phi$ is $z^2-2z+1$. Hence"
   ]
  },
  {
   "cell_type": "code",
   "execution_count": 16,
   "metadata": {
    "ExecuteTime": {
     "end_time": "2018-11-09T14:36:35.505305Z",
     "start_time": "2018-11-09T14:36:35.465557Z"
    }
   },
   "outputs": [
    {
     "name": "stdout",
     "output_type": "stream",
     "text": [
      "P=\n"
     ]
    },
    {
     "data": {
      "text/latex": [
       "$$\\left[\\begin{matrix}p_{1} + p_{2} + 1 & h p_{1} + 2 h\\\\0 & p_{1} + p_{2} + 1\\end{matrix}\\right]$$"
      ],
      "text/plain": [
       "⎡p₁ + p₂ + 1  h⋅p₁ + 2⋅h ⎤\n",
       "⎢                        ⎥\n",
       "⎣     0       p₁ + p₂ + 1⎦"
      ]
     },
     "execution_count": 16,
     "metadata": {},
     "output_type": "execute_result"
    }
   ],
   "source": [
    "gamma = Matrix(gamma)\n",
    "phi = Matrix(phi)\n",
    "\n",
    "p1, p2 = symbols('p1 p2')\n",
    "P = phi**2 + p1*phi + p2*Matrix.eye(2)\n",
    "print(\"P=\")\n",
    "P"
   ]
  },
  {
   "cell_type": "markdown",
   "metadata": {},
   "source": [
    "Now we can use Ackermann's formula \n",
    "$$\n",
    "L = (p_1-a_1,\\ p_2-a_2,\\ \\cdots, p_n-a_n) \\tilde{W}_c W_c^{-1} \\\\\n",
    "= (0,\\ \\cdots\\,\\ 0,\\ 1)W_C^{-1}P(\\Phi)\n",
    "$$"
   ]
  },
  {
   "cell_type": "code",
   "execution_count": 17,
   "metadata": {
    "ExecuteTime": {
     "end_time": "2018-11-09T14:36:35.621541Z",
     "start_time": "2018-11-09T14:36:35.506438Z"
    }
   },
   "outputs": [
    {
     "name": "stdout",
     "output_type": "stream",
     "text": [
      "L=\n"
     ]
    },
    {
     "data": {
      "text/latex": [
       "$$\\left[\\begin{matrix}\\frac{1}{h^{2}} \\left(p_{1} + p_{2} + 1\\right) & \\frac{1}{2 h} \\left(p_{1} - p_{2} + 3\\right)\\end{matrix}\\right]$$"
      ],
      "text/plain": [
       "⎡p₁ + p₂ + 1  p₁ - p₂ + 3⎤\n",
       "⎢───────────  ───────────⎥\n",
       "⎢      2          2⋅h    ⎥\n",
       "⎣     h                  ⎦"
      ]
     },
     "execution_count": 17,
     "metadata": {},
     "output_type": "execute_result"
    }
   ],
   "source": [
    "L = simplify(Matrix([0,1]).T*(W_inv)*P)\n",
    "_L = L.subs([(h, 1.0), (p1, -2), (p2, -5)])\n",
    "\n",
    "print(\"L=\")\n",
    "L"
   ]
  },
  {
   "cell_type": "markdown",
   "metadata": {},
   "source": [
    "We can now use $x(k+1) = \\Phi x(k)- \\Gamma L x(k)$ to determine the new closed loop system"
   ]
  },
  {
   "cell_type": "code",
   "execution_count": 18,
   "metadata": {
    "ExecuteTime": {
     "end_time": "2018-11-09T14:36:35.649997Z",
     "start_time": "2018-11-09T14:36:35.622727Z"
    }
   },
   "outputs": [
    {
     "data": {
      "text/latex": [
       "$$\\left[\\begin{matrix}- \\frac{p_{1}}{2} - \\frac{p_{2}}{2} + \\frac{1}{2} & - \\frac{h}{4} \\left(p_{1} - p_{2} + 3\\right) + h\\\\- \\frac{1}{h} \\left(p_{1} + p_{2} + 1\\right) & - \\frac{p_{1}}{2} + \\frac{p_{2}}{2} - \\frac{1}{2}\\end{matrix}\\right]$$"
      ],
      "text/plain": [
       "⎡   p₁   p₂   1     h⋅(p₁ - p₂ + 3)    ⎤\n",
       "⎢ - ── - ── + ─   - ─────────────── + h⎥\n",
       "⎢   2    2    2            4           ⎥\n",
       "⎢                                      ⎥\n",
       "⎢-(p₁ + p₂ + 1)         p₁   p₂   1    ⎥\n",
       "⎢───────────────      - ── + ── - ─    ⎥\n",
       "⎣       h               2    2    2    ⎦"
      ]
     },
     "execution_count": 18,
     "metadata": {},
     "output_type": "execute_result"
    }
   ],
   "source": [
    "phi_cl = phi - gamma*L\n",
    "phi_cl"
   ]
  },
  {
   "cell_type": "markdown",
   "metadata": {},
   "source": [
    "Using this representation of the system, we can easily place the poles. For example, we want to place the poles $[p_1\\ p_2] = [-2\\ -5]$\n",
    "\n",
    "Here the characteristic equation is determined using:\n",
    "$$\n",
    "|zI-\\Phi|\n",
    "$$"
   ]
  },
  {
   "cell_type": "code",
   "execution_count": 22,
   "metadata": {
    "ExecuteTime": {
     "end_time": "2018-11-09T14:37:48.665507Z",
     "start_time": "2018-11-09T14:37:48.634477Z"
    }
   },
   "outputs": [
    {
     "data": {
      "image/png": "[encoded data removed]",
      "text/latex": [
       "$$z^{2} - 2.0 z - 5.0$$"
      ],
      "text/plain": [
       " 2              \n",
       "z  - 2.0⋅z - 5.0"
      ]
     },
     "execution_count": 22,
     "metadata": {},
     "output_type": "execute_result"
    }
   ],
   "source": [
    "z = Symbol('z')\n",
    "phi_placed = phi_cl.subs([(h, 1.0), (p1, -2.), (p2, -5.)])\n",
    "collect((z*Matrix.eye(2)-phi_placed).det(), z)"
   ]
  },
  {
   "cell_type": "markdown",
   "metadata": {},
   "source": [
    "# QUESTION----------------------------------------\n",
    "Als ik dit goed begrijp zou de je deze methode kunnen gebruiken om de polen van een systeem te plaatsen. Dus ik zou nu $p_1$ en $p_2$ uit moeten kunnen kiezen en daarmee $L$ bepalen.\n",
    "Dan zou de polen van het systeem $x(k+1) = \\Phi x(k)- \\Gamma L x(k)$ gelijk moeten zijn aan de gekozen $p_1$ en $p_2$. \n",
    "Alleen als ik deze methode vergelijk met die van de place command in de library komt dit niet overeen. \n",
    "Ik snap dat je met de methode in het boek de polen van de transferfunctie plaatst, en dat klopt inderdaad. \n",
    "Maar wat is het verschil tussen deze methodes.\n"
   ]
  },
  {
   "cell_type": "code",
   "execution_count": 23,
   "metadata": {
    "ExecuteTime": {
     "end_time": "2018-11-09T14:37:51.994854Z",
     "start_time": "2018-11-09T14:37:51.986537Z"
    }
   },
   "outputs": [
    {
     "name": "stdout",
     "output_type": "stream",
     "text": [
      "[[ 4.  -0.5]\n",
      " [ 6.  -2. ]]\n",
      "[ 3.44948974 -1.44948974]\n"
     ]
    }
   ],
   "source": [
    "#TODO figure out why new poles are incorrect\n",
    "\n",
    "h = 1.0\n",
    "p1 = -2.\n",
    "p2 = -5.\n",
    "\n",
    "phi = np.array([[1, h], [0, 1]])\n",
    "gamma = np.array([[h**2/2], [h]])\n",
    "\n",
    "l1 = 1./h**2*(1+p1+p2)\n",
    "l2 = 1./(2.*h)*(3+p1-p2)\n",
    "L = np.array([[l1, l2]])\n",
    "G_cl = phi - gamma.dot(L)\n",
    "print(G_cl)\n",
    "print(np.linalg.eigvals(G_cl))"
   ]
  },
  {
   "cell_type": "code",
   "execution_count": 24,
   "metadata": {
    "ExecuteTime": {
     "end_time": "2018-11-09T14:37:53.201985Z",
     "start_time": "2018-11-09T14:37:53.194096Z"
    }
   },
   "outputs": [
    {
     "name": "stdout",
     "output_type": "stream",
     "text": [
      "[[ 1.80000000e+01 -3.46389584e-15]]\n",
      "[[ -8.   1.]\n",
      " [-18.   1.]]\n",
      "[-5. -2.]\n"
     ]
    }
   ],
   "source": [
    "# Compare this result to the ctl place command\n",
    "h = 1.0\n",
    "\n",
    "Phi = np.array([[1, h], [0, 1]])\n",
    "Gamma = np.array([[h**2/2], [h]])\n",
    "K = ctl.place(Phi, Gamma, [-2, -5])\n",
    "print(K)\n",
    "FB = Phi - Gamma*K\n",
    "print(FB)\n",
    "print(np.linalg.eigvals(FB)) # check if poles have been placed correctly"
   ]
  },
  {
   "cell_type": "markdown",
   "metadata": {
    "ExecuteTime": {
     "end_time": "2018-11-07T20:02:33.617898Z",
     "start_time": "2018-11-07T20:02:33.594497Z"
    }
   },
   "source": []
  },
  {
   "cell_type": "code",
   "execution_count": 25,
   "metadata": {
    "ExecuteTime": {
     "end_time": "2018-11-09T14:37:54.661331Z",
     "start_time": "2018-11-09T14:37:54.565512Z"
    }
   },
   "outputs": [
    {
     "data": {
      "image/png": "[encoded data removed]",
      "text/latex": [
       "$$\\frac{h^{2} l_{1}}{2} - h l_{2} + z^{2} + z \\left(\\frac{h^{2} l_{1}}{2} + h l_{2} - 2\\right) + 1$$"
      ],
      "text/plain": [
       " 2                    ⎛ 2              ⎞    \n",
       "h ⋅l₁           2     ⎜h ⋅l₁           ⎟    \n",
       "───── - h⋅l₂ + z  + z⋅⎜───── + h⋅l₂ - 2⎟ + 1\n",
       "  2                   ⎝  2             ⎠    "
      ]
     },
     "execution_count": 25,
     "metadata": {},
     "output_type": "execute_result"
    }
   ],
   "source": [
    "# klad\n",
    "from sympy import collect\n",
    "h = Symbol('h')\n",
    "z = Symbol('z')\n",
    "\n",
    "phi = np.array([[1, h], [0, 1]])\n",
    "gamma = np.array([[h**2/2], [h]])\n",
    "\n",
    "gamma = Matrix(gamma)\n",
    "phi = Matrix(phi)\n",
    "\n",
    "p1, p2 = symbols('p1 p2')\n",
    "l1, l2 = symbols('l1 l2')\n",
    "L = Matrix([l1, l2]).T\n",
    "FB_sys1 = phi - gamma*L\n",
    "FB_sys2 = FB_sys1.subs([(l1, (1./(h**2))*(1.+p1+p2)), (l2, (1./(2.*h))*(3.+p1-p2))])\n",
    "FB_sys3 = FB_sys2.subs([(h, 1.0), (p1, -2.), (p2, -5.)])\n",
    "\n",
    "FB_sys1\n",
    "collect((z*Matrix.eye(2)-FB_sys1).det(), z)"
   ]
  },
  {
   "cell_type": "markdown",
   "metadata": {},
   "source": [
    "### Example 4.4 Choise of design parameters\n",
    "Consider the double-integrator plant. Instead of using the parameters $p_1$ and $p_2$ of the characteristic equation we will introduce two other parameters, which have a more direct physical interpretation. If the desired discrete-time system is obtained by samling a second-order system with the characteristic polynomial $s^2 + 2\\zeta \\omega s + \\omega^2 $ we find that:\n",
    "\n",
    "$$\n",
    "p_1 = -2e^{-\\zeta \\omega h} cos(\\omega h \\sqrt{1-\\zeta^2}) \\\\\n",
    "p_2 = e^{-2 \\zeta \\omega h}\n",
    "$$\n",
    "\n",
    "where $\\omega$ is the natural frequency and $\\zeta$ is teh damping. The perameter $\\zeta$ influences the relative damping of the response and $\\omega$ influences the response speed.  To discuss the magnitude of the control signal, it is assumed that the system has an initial position $x_0$ and an initial velocity $v_0$. The initial value of the control isgnal is then :\n",
    "\n",
    "$$\n",
    "u(0) = -l_1x_0-l_2v_0\n",
    "$$\n",
    "\n",
    "If the sampling period is short, then the expressions for p_1 and p_2 can be approximated using series expansion. The following approximation is then obtained:\n",
    "$$\n",
    "u(0) \\approx -\\omega^2x_0+2\\zeta \\omega v_0\n",
    "$$\n",
    "\n",
    "The expression shows that the magnitude of the control signal increases with increasing $\\omega$. Thus an increase in the speed of the response of the system will require and increase in the control signals. If the bounds on the control signal and typical disturbances are known. it is possible to determine reasonable values of $\\omega$. The consequences of different choises of $\\omega$ when $x_0=1$ and $v_0 -1$ are illustrated in Fig. 4.2. A  larger $\\omega$ givs a faster system but also larger control signals.\n",
    "\n",
    "The selection of sampling periods for open-loop systems was discussed in Sec. 2.9. It was suggested that the sampling period can be chosen such that \n",
    "\n",
    "$$\n",
    "N_r \\approx 4-10\n",
    "$$\n",
    "Where $N_r$ is the number of samplers per rise time. Applying the same rule to closed-loop systems we find that the sampling period should be related to the desired behavior of the closed-loop system. It is convenient to introduce the parameter N defined by \n",
    "\n",
    "$$\n",
    "N = \\frac{2\\pi}{\\omega h \\sqrt{1-\\zeta^2}}\n",
    "$$\n",
    "\n",
    "This parameter gives the number of samples per period of dominating mode of the closed-loop system. Figure 4.3 shows the transient of the system for different values of $N$. There are small differences between the responses for $N>10$. The responses obtained for $N>20$ are indistinguishable in the graph.\\\\\n",
    "Figure 4.3 shows the response to an initial condition when an impulse disturbance has entered the system just before the sampling. In reality the disturbances of course may enter the system at any time. With a long sampling period it will then take a long time before the disturbance is detected. To illustrate this we repeate the simulation in Fig. 4.3 but it will be assumed that the disturbance coms just after a sampling. This implies taht the disturbance acts for a full sampling period before it is detected. Figure 4.4 shows the response of the system when the system is disturbed immediately after the sampling, that is , when $x(0+) = [1\\ 1]^T$. Notice the significant difference compared with Fig. 4.3. In this case the results for $N=20$ are much better than the results for $N=10$. It is reasonable to choose N in thre range $N \\approx 25$ to $75$. This corresponds to $\\omega h = 0.12$ to $0.36$ for $\\zeta = 0.707$."
   ]
  },
  {
   "cell_type": "markdown",
   "metadata": {},
   "source": [
    "# QUESTION----------------------------------------------------\n",
    "In figure 4.2 zeggen gebruiken ze ineens $\\omega$ om sampling periods te beschrijven, is dit een typ fout?\n",
    "\n",
    "### Figure 4.2\n"
   ]
  },
  {
   "cell_type": "code",
   "execution_count": 26,
   "metadata": {
    "ExecuteTime": {
     "end_time": "2018-11-09T14:37:57.514790Z",
     "start_time": "2018-11-09T14:37:57.510305Z"
    }
   },
   "outputs": [],
   "source": [
    "# Helper functions\n",
    "\n",
    "def get_poles(zeta, omega, h=1.):\n",
    "    # if h is not given, then it is assumed that omega is given as omega*h\n",
    "\n",
    "    p1 = -2*np.exp(-zeta*omega*h)*np.cos(omega*h*np.sqrt(1-zeta**2))\n",
    "    p2 = np.exp(-2*zeta*omega*h)\n",
    "    return (p1, p2)\n",
    "   \n",
    "    "
   ]
  },
  {
   "cell_type": "code",
   "execution_count": 27,
   "metadata": {
    "ExecuteTime": {
     "end_time": "2018-11-09T14:37:59.228834Z",
     "start_time": "2018-11-09T14:37:58.752622Z"
    }
   },
   "outputs": [
    {
     "data": {
      "image/png": "[encoded data removed]",
      "text/plain": [
       "<Figure size 720x504 with 4 Axes>"
      ]
     },
     "metadata": {},
     "output_type": "display_data"
    }
   ],
   "source": [
    "h = 0.1\n",
    "x0 = np.array([[1],[1]])\n",
    "\n",
    "A = np.array([[1, h], [0, 1]])\n",
    "B = np.array([[h**2/2], [h]])\n",
    "C = np.array([[1, 0]])\n",
    "D = np.array([[0]])\n",
    "\n",
    "fig1, axs = plt.subplots(nrows=2, ncols=2, figsize=(10,7))\n",
    "axs = np.asarray(axs).reshape(-1)\n",
    "\n",
    "omega_range = [0.5, 1., 2.]\n",
    "linestyles = ['-.', '--', '-']\n",
    "colors = ['red', 'orange', 'blue']\n",
    "for i in range(len(omega_range)):\n",
    "    zeta = 0.707\n",
    "    omega = omega_range[i]\n",
    "    \n",
    "    p1, p2 = get_poles(zeta, omega, h)\n",
    "    l1 = 1./h**2*(1+p1+p2)\n",
    "    l2 = 1./(2.*h)*(3+p1-p2)\n",
    "\n",
    "    L = np.array([[l1], [l2]])\n",
    "\n",
    "    A_cl = A-B*L\n",
    "    B_cl = np.array([[0], [0]])\n",
    "\n",
    "    G_cl = ctl.ss(A_cl,B_cl,C,D, h)\n",
    "\n",
    "    t_in = np.arange(0,15,h)\n",
    "    u_in = np.zeros_like(t_in)\n",
    "\n",
    "    t_out, y_out, x_out = ctl.forced_response(G_cl, t_in, u_in, X0=x0)\n",
    "    inputs = -L.T.dot(x_out)\n",
    "\n",
    "    # plot output\n",
    "    axs[0].step(t_out, y_out[0,:], color=colors[i], linestyle=linestyles[i], label='$\\omega=%.1f$' % omega)\n",
    "    axs[0].set_ylabel('Output')\n",
    "    axs[0].legend()\n",
    "\n",
    "    # plot inputs\n",
    "    axs[i+1].step(t_out, inputs.squeeze(), color=colors[i], linestyle=linestyles[i], label='$\\omega=%.1f$' % omega)\n",
    "    axs[i+1].set_ylim((-5.5,2.5))\n",
    "    axs[i+1].legend()\n",
    "    axs[i+1].set_ylabel('Input')\n",
    "    \n",
    "plt.show();"
   ]
  },
  {
   "cell_type": "code",
   "execution_count": null,
   "metadata": {
    "ExecuteTime": {
     "end_time": "2018-11-08T20:42:46.519276Z",
     "start_time": "2018-11-08T20:42:45.987528Z"
    },
    "run_control": {
     "marked": false
    }
   },
   "outputs": [],
   "source": []
  },
  {
   "cell_type": "markdown",
   "metadata": {},
   "source": [
    "### Figure 4.3"
   ]
  },
  {
   "cell_type": "code",
   "execution_count": 28,
   "metadata": {
    "ExecuteTime": {
     "end_time": "2018-11-09T14:38:01.724792Z",
     "start_time": "2018-11-09T14:38:01.288508Z"
    }
   },
   "outputs": [
    {
     "data": {
      "image/png": "[encoded data removed]",
      "text/plain": [
       "<Figure size 720x504 with 4 Axes>"
      ]
     },
     "metadata": {},
     "output_type": "display_data"
    }
   ],
   "source": [
    "x0 = np.array([[1],[1]])\n",
    "\n",
    "C = np.array([[1, 0]])\n",
    "D = np.array([[0]])\n",
    "\n",
    "fig1, axs = plt.subplots(nrows=2, ncols=2, figsize=(10,7))\n",
    "axs = np.asarray(axs).reshape(-1)\n",
    "\n",
    "\n",
    "linestyles = ['-.', '--', '-']\n",
    "colors = ['red', 'orange', 'blue']\n",
    "\n",
    "N_range = [5., 10., 20.]\n",
    "for i in range(len(N_range)):\n",
    "    zeta = 0.707\n",
    "    omega = 1.\n",
    "    N = N_range[i]\n",
    "    h = (2*np.pi)/(omega*N*np.sqrt(1-zeta**2))\n",
    "    \n",
    "    A = np.array([[1, h], [0, 1]])\n",
    "    B = np.array([[h**2/2], [h]])\n",
    "    \n",
    "    p1, p2 = get_poles(zeta, omega, h)\n",
    "    l1 = 1./h**2*(1+p1+p2)\n",
    "    l2 = 1./(2.*h)*(3+p1-p2)\n",
    "\n",
    "    L = np.array([[l1], [l2]])\n",
    "\n",
    "    A_cl = A-B*L\n",
    "    B_cl = np.array([[0], [0]])\n",
    "\n",
    "    G_cl = ctl.ss(A_cl,B_cl,C,D, h)\n",
    "\n",
    "    t_in = np.arange(0,10,h)\n",
    "    u_in = np.zeros_like(t_in)\n",
    "\n",
    "    t_out, y_out, x_out = ctl.forced_response(G_cl, t_in, u_in, X0=x0)\n",
    "    inputs = -L.T.dot(x_out)\n",
    "\n",
    "    # plot output\n",
    "    axs[0].step(t_out, y_out[0,:], color=colors[i], linestyle=linestyles[i], label='$N=%.1f$' % N)\n",
    "    axs[0].set_ylabel('Output')\n",
    "    axs[0].legend()\n",
    "\n",
    "    # plot inputs\n",
    "    axs[i+1].step(t_out, inputs.squeeze(), color=colors[i], linestyle=linestyles[i], label='$N=%.1f$' % N)\n",
    "    axs[i+1].set_ylim((-5.5,2.5))\n",
    "    axs[i+1].legend()\n",
    "    axs[i+1].set_ylabel('Input')\n",
    "    \n",
    "plt.show();"
   ]
  },
  {
   "cell_type": "markdown",
   "metadata": {},
   "source": [
    "### Figure 4.4\n",
    "Responses of the closed-loop system in Example 4.4. The initial condition is $x^T(0+)=[1\\ 1]$, and the parameter values are $\\omega =1$ and $\\zeta = 0.707$. \n",
    "\n",
    "The disturbance is immediately after the first sampling. Notice the significant difference compared to Fig. 4.3"
   ]
  },
  {
   "cell_type": "code",
   "execution_count": 29,
   "metadata": {
    "ExecuteTime": {
     "end_time": "2018-11-09T14:38:04.263038Z",
     "start_time": "2018-11-09T14:38:03.751128Z"
    }
   },
   "outputs": [
    {
     "data": {
      "image/png": "[encoded data removed]",
      "text/plain": [
       "<Figure size 720x504 with 4 Axes>"
      ]
     },
     "metadata": {},
     "output_type": "display_data"
    }
   ],
   "source": [
    "x0 = np.array([[1],[1]])\n",
    "\n",
    "C = np.array([[1, 0]])\n",
    "D = np.array([[0]])\n",
    "\n",
    "fig1, axs = plt.subplots(nrows=2, ncols=2, figsize=(10,7))\n",
    "axs = np.asarray(axs).reshape(-1)\n",
    "\n",
    "\n",
    "linestyles = ['-.', '--', '-']\n",
    "colors = ['red', 'orange', 'blue']\n",
    "\n",
    "N_range = [5., 10., 20.]\n",
    "for i in range(len(N_range)):\n",
    "    zeta = 0.707\n",
    "    omega = 1.\n",
    "    N = N_range[i]\n",
    "    h = (2*np.pi)/(omega*N*np.sqrt(1-zeta**2))\n",
    "    \n",
    "    A = np.array([[1, h], [0, 1]])\n",
    "    B = np.array([[h**2/2], [h]])\n",
    "    \n",
    "    p1, p2 = get_poles(zeta, omega, h)\n",
    "    l1 = 1./h**2*(1+p1+p2)\n",
    "    l2 = 1./(2.*h)*(3+p1-p2)\n",
    "\n",
    "    L = np.array([[l1], [l2]])\n",
    "\n",
    "    A_cl = A-B*L\n",
    "    B_cl = A_cl # this way, x(k+1) = A*(x+ex) can be simulated as A*x + B*u\n",
    "    D_cl = np.array([[0, 0]]) # B and D should have same number of columns\n",
    "\n",
    "    G_cl = ctl.ss(A_cl,B_cl,C,D_cl, h)\n",
    "\n",
    "    t_in = np.arange(0,10,h)\n",
    "    u_in = np.zeros((len(t_in),2))\n",
    "    u_in[2,:] = x0.squeeze()\n",
    "\n",
    "    t_out, y_out, x_out = ctl.forced_response(G_cl, t_in, u_in)\n",
    "    inputs = -L.T.dot(x_out+u_in.T)\n",
    "\n",
    "    # plot output\n",
    "    axs[0].step(t_out, y_out[0,:], color=colors[i], linestyle=linestyles[i], label='$N=%.1f, h=%.1f$' % (N,h))\n",
    "    axs[0].set_ylabel('Output')\n",
    "    axs[0].legend()\n",
    "\n",
    "    # plot inputs\n",
    "    axs[i+1].step(t_out, inputs.squeeze(), color=colors[i], linestyle=linestyles[i], label='$N=%.1f, h=%.1f$' % (N,h))\n",
    "    axs[i+1].set_ylim((-2.3,2.5))\n",
    "    axs[i+1].legend()\n",
    "    axs[i+1].set_ylabel('Input')\n",
    "    \n",
    "plt.show();"
   ]
  },
  {
   "cell_type": "markdown",
   "metadata": {},
   "source": [
    "### Example 4.5\n",
    "\n",
    "COnsider a double-integrator plant. it follows from (4.19) that the deadbeat control strategy is given by $u=-l_1x_1-l_2x_2$ with \n",
    "$$\n",
    "l_1=\\frac{1}{h^2}\\quad l_2=\\frac{3}{2h}\n",
    "$$\n",
    "\n",
    "If the process has the initial state $x(0)=col[x_0,v_0]$, it follows that\n",
    "$$\n",
    "u(0)=-\\frac{x_0}{h^2}-\\frac{3v_0}{2h}\\quad u(h)=\\frac{x_0}{h^2}+\\frac{v_0}{2h}\n",
    "$$\n",
    "\n",
    "Notice that the magnitude of the control signal increases rapidly with decreasing sampling period. Also notice that for small h, the control signals $u(0)$ and $u(h)$ have opposite signs and opproximately equal magnitude. The desired effect is thus obtained as a result of subtracting two large numbers. This is further illustrated in Table 4.1, which gives the control signals for $x_0 = 1$ and $v_0 = 1$. It therefore can be expected that the deadbeat strategy is quite sensitive for small sampling periods. The output and the control signals are shown in Fig. 4.5. In this case the first sampling is at $t=0+$. The disturbance occurs immediately before the sampling.\n",
    "\n",
    "# QUESTION -----------------------------------------------\n",
    "De afbeelding komt niet geheel overeen met resultaten beneden. Bij alle afbeeldingen in het boek is de output een curve, maar met een sampling time van $h=2.0$ en een discreet systeem is dit toch niet te verwachten? Bij deze opgave heb ik interpolatie gebruikt om hem vloeiender te maken. Ook komen de responses van de vorige opgaven niet overeen. Bij afbeelding 4.2 wel. Maar bij 4.3 en 4.4, met name bij de lagere sampling rates is het systeem gewoon instabiel. Intepreteer ik hier de opgave wel goed? Ik gebruik de N waarde om de h waarde te vinden, $\\omega$ en $\\zeta$ zijn constant. Bij 4.3 zet ik x0 gewoon via de forced response functie. \n",
    "Bij 4.4 zet ik B_CL = A_CL zodat ik een verandering van x mee kan geven via u, bij de 2e sampling period."
   ]
  },
  {
   "cell_type": "markdown",
   "metadata": {},
   "source": [
    "### Figure 4.5"
   ]
  },
  {
   "cell_type": "code",
   "execution_count": 30,
   "metadata": {
    "ExecuteTime": {
     "end_time": "2018-11-09T14:38:07.180739Z",
     "start_time": "2018-11-09T14:38:06.497182Z"
    }
   },
   "outputs": [
    {
     "name": "stderr",
     "output_type": "stream",
     "text": [
      "/opt/anaconda2/lib/python2.7/site-packages/ipykernel_launcher.py:45: DeprecationWarning: `spline` is deprecated!\n",
      "spline is deprecated in scipy 0.19.0, use Bspline class instead.\n"
     ]
    },
    {
     "data": {
      "image/png": "[encoded data removed]",
      "text/plain": [
       "<Figure size 720x504 with 4 Axes>"
      ]
     },
     "metadata": {},
     "output_type": "display_data"
    }
   ],
   "source": [
    "from scipy.interpolate import spline\n",
    "\n",
    "x0 = np.array([[1],[1]])\n",
    "\n",
    "C = np.array([[1, 0]])\n",
    "D = np.array([[0]])\n",
    "\n",
    "fig1, axs = plt.subplots(nrows=2, ncols=2, figsize=(10,7))\n",
    "axs = np.asarray(axs).reshape(-1)\n",
    "\n",
    "\n",
    "linestyles = ['-.', '--', '-']\n",
    "colors = ['red', 'orange', 'blue']\n",
    "\n",
    "h_range = [2., 1., 0.5]\n",
    "for i in range(len(N_range)):\n",
    "    zeta = 0.707\n",
    "    omega = 1.\n",
    "    h = h_range[i]\n",
    "    \n",
    "    A = np.array([[1, h], [0, 1]])\n",
    "    B = np.array([[h**2/2], [h]])\n",
    "    \n",
    "    p1, p2 = get_poles(zeta, omega, h)\n",
    "    l1 = 1./h**2\n",
    "    l2 = 3./(2.*h)\n",
    "\n",
    "    L = np.array([[l1], [l2]])\n",
    "\n",
    "    A_cl = A-B*L\n",
    "    B_cl = A_cl # this way, x(k+1) = A*(x+ex) can be simulated as A*x + B*u\n",
    "    D_cl = np.array([[0, 0]]) # B and D should have same number of columns\n",
    "\n",
    "    G_cl = ctl.ss(A_cl,B_cl,C,D_cl, h)\n",
    "\n",
    "    t_in = np.arange(0,10,h)\n",
    "    u_in = np.zeros((len(t_in),2))\n",
    "#     u_in[2,:] = x0.squeeze()\n",
    "\n",
    "    t_out, y_out, x_out = ctl.forced_response(G_cl, t_in, u_in, X0=x0)\n",
    "    inputs = -L.T.dot(x_out+u_in.T)\n",
    "    \n",
    "    # we want a smooth output plot, so we make it\n",
    "    t_new = np.linspace(t_out.min(), t_out.max(), 100)\n",
    "    y_smooth = spline(t_out, y_out[0,:], t_new)\n",
    "    \n",
    "    # plot output\n",
    "#     axs[0].plot(t_out, y_out[0,:], color=colors[i], linestyle=linestyles[i], label='$ h=%.1f$' % (h))\n",
    "    axs[0].plot(t_new, y_smooth, color=colors[i], linestyle=linestyles[i], label='$ h=%.1f$' % (h))\n",
    "    axs[0].set_ylabel('Output')\n",
    "    axs[0].legend()\n",
    "\n",
    "    # plot inputs\n",
    "    axs[i+1].step(t_out, inputs.squeeze(), color=colors[i], linestyle=linestyles[i], label='$h=%.1f$' % (h))\n",
    "    axs[i+1].set_ylim((-8, 6))\n",
    "    axs[i+1].legend()\n",
    "    axs[i+1].set_ylabel('Input')\n",
    "    \n",
    "plt.show();"
   ]
  },
  {
   "cell_type": "markdown",
   "metadata": {},
   "source": [
    "### Example 4.8\n"
   ]
  }
 ],
 "metadata": {
  "kernelspec": {
   "display_name": "Python 2",
   "language": "python",
   "name": "python2"
  },
  "language_info": {
   "codemirror_mode": {
    "name": "ipython",
    "version": 2
   },
   "file_extension": ".py",
   "mimetype": "text/x-python",
   "name": "python",
   "nbconvert_exporter": "python",
   "pygments_lexer": "ipython2",
   "version": "2.7.13"
  },
  "varInspector": {
   "cols": {
    "lenName": 16,
    "lenType": 16,
    "lenVar": 40
   },
   "kernels_config": {
    "python": {
     "delete_cmd_postfix": "",
     "delete_cmd_prefix": "del ",
     "library": "var_list.py",
     "varRefreshCmd": "print(var_dic_list())"
    },
    "r": {
     "delete_cmd_postfix": ") ",
     "delete_cmd_prefix": "rm(",
     "library": "var_list.r",
     "varRefreshCmd": "cat(var_dic_list()) "
    }
   },
   "types_to_exclude": [
    "module",
    "function",
    "builtin_function_or_method",
    "instance",
    "_Feature"
   ],
   "window_display": false
  }
 },
 "nbformat": 4,
 "nbformat_minor": 2
}
